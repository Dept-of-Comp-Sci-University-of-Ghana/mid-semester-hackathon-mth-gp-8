{
  "metadata": {
    "kernelspec": {
      "language": "python",
      "display_name": "Python 3",
      "name": "python3"
    },
    "language_info": {
      "name": "python",
      "version": "3.7.12",
      "mimetype": "text/x-python",
      "codemirror_mode": {
        "name": "ipython",
        "version": 3
      },
      "pygments_lexer": "ipython3",
      "nbconvert_exporter": "python",
      "file_extension": ".py"
    },
    "colab": {
      "name": "toxic_identifier.ipynb",
      "provenance": []
    }
  },
  "nbformat_minor": 0,
  "nbformat": 4,
  "cells": [
    {
      "cell_type": "code",
      "source": [
        "import numpy as np\n",
        "import pandas as pd\n",
        "import seaborn as sns\n",
        "from matplotlib import pyplot as plt\n",
        "\n",
        "import nltk\n",
        "from nltk.stem.porter import PorterStemmer\n",
        "from nltk.stem import WordNetLemmatizer\n",
        "from nltk.tokenize import word_tokenize\n",
        "\n",
        "from nltk.corpus import stopwords\n",
        "nltk.download('stopwords')\n",
        "nltk.download('punkt')\n",
        "nltk.download('wordnet')\n",
        "nltk.download('omw-1.4')\n",
        "stop_words = stopwords.words('english')\n",
        "import html\n",
        "import unicodedata\n",
        "\n",
        "import spacy\n",
        "import pandas as pd\n",
        "import numpy as np\n",
        "from tqdm.auto import tqdm\n",
        "import re\n",
        "import string\n",
        "\n",
        "import seaborn as sns\n",
        "import matplotlib.pyplot as plt\n",
        "\n",
        "\n",
        "from tensorflow.keras.preprocessing.text import text_to_word_sequence\n",
        "from tensorflow.keras.preprocessing.text import Tokenizer  \n",
        "from tensorflow.keras.preprocessing.sequence import pad_sequences\n",
        "from tensorflow.keras import models\n",
        "from tensorflow.keras import layers\n",
        "from tensorflow.keras import losses\n",
        "from tensorflow.keras import metrics\n",
        "from tensorflow.keras import optimizers\n",
        "from tensorflow.keras.utils import plot_model\n",
        "\n",
        "\n",
        "import pickle"
      ],
      "metadata": {
        "execution": {
          "iopub.status.busy": "2022-07-15T15:39:28.076453Z",
          "iopub.execute_input": "2022-07-15T15:39:28.078331Z",
          "iopub.status.idle": "2022-07-15T15:39:28.089898Z",
          "shell.execute_reply.started": "2022-07-15T15:39:28.078303Z",
          "shell.execute_reply": "2022-07-15T15:39:28.089034Z"
        },
        "trusted": true,
        "colab": {
          "base_uri": "https://localhost:8080/"
        },
        "id": "BGV4m4jlnXHw",
        "outputId": "0b1976db-d253-46f5-f1e1-fb296967a585"
      },
      "execution_count": 26,
      "outputs": [
        {
          "output_type": "stream",
          "name": "stderr",
          "text": [
            "[nltk_data] Downloading package stopwords to /root/nltk_data...\n",
            "[nltk_data]   Package stopwords is already up-to-date!\n",
            "[nltk_data] Downloading package punkt to /root/nltk_data...\n",
            "[nltk_data]   Package punkt is already up-to-date!\n",
            "[nltk_data] Downloading package wordnet to /root/nltk_data...\n",
            "[nltk_data]   Package wordnet is already up-to-date!\n",
            "[nltk_data] Downloading package omw-1.4 to /root/nltk_data...\n"
          ]
        }
      ]
    },
    {
      "cell_type": "code",
      "source": [
        "# load data\n",
        "train = pd.read_csv('../dataset/train.csv')\n",
        "test = pd.read_csv('../dataset/train.csv')\n",
        "test.head()"
      ],
      "metadata": {
        "execution": {
          "iopub.status.busy": "2022-07-15T15:39:28.106608Z",
          "iopub.execute_input": "2022-07-15T15:39:28.107179Z",
          "iopub.status.idle": "2022-07-15T15:39:30.533527Z",
          "shell.execute_reply.started": "2022-07-15T15:39:28.107144Z",
          "shell.execute_reply": "2022-07-15T15:39:30.532558Z"
        },
        "trusted": true,
        "id": "nElAj-VtnXHz"
      },
      "execution_count": null,
      "outputs": []
    },
    {
      "cell_type": "code",
      "source": [
        "#sample text to visualize\n",
        "train.head()"
      ],
      "metadata": {
        "execution": {
          "iopub.status.busy": "2022-07-15T15:39:30.536997Z",
          "iopub.execute_input": "2022-07-15T15:39:30.537356Z",
          "iopub.status.idle": "2022-07-15T15:39:30.549705Z",
          "shell.execute_reply.started": "2022-07-15T15:39:30.537329Z",
          "shell.execute_reply": "2022-07-15T15:39:30.548868Z"
        },
        "trusted": true,
        "colab": {
          "base_uri": "https://localhost:8080/",
          "height": 206
        },
        "id": "rGZ4bAWZnXH1",
        "outputId": "94772c19-ac81-4f7a-889a-ca195613b7b6"
      },
      "execution_count": 17,
      "outputs": [
        {
          "output_type": "execute_result",
          "data": {
            "text/plain": [
              "       Comment  Insult\n",
              "0       kwasia     1.0\n",
              "1      kwasiaa     1.0\n",
              "2     kwasiaaa     1.0\n",
              "3     woti wai     1.0\n",
              "4  woti s3 fam     1.0"
            ],
            "text/html": [
              "\n",
              "  <div id=\"df-9bba0135-049b-4e9d-94c3-48ecb3d50477\">\n",
              "    <div class=\"colab-df-container\">\n",
              "      <div>\n",
              "<style scoped>\n",
              "    .dataframe tbody tr th:only-of-type {\n",
              "        vertical-align: middle;\n",
              "    }\n",
              "\n",
              "    .dataframe tbody tr th {\n",
              "        vertical-align: top;\n",
              "    }\n",
              "\n",
              "    .dataframe thead th {\n",
              "        text-align: right;\n",
              "    }\n",
              "</style>\n",
              "<table border=\"1\" class=\"dataframe\">\n",
              "  <thead>\n",
              "    <tr style=\"text-align: right;\">\n",
              "      <th></th>\n",
              "      <th>Comment</th>\n",
              "      <th>Insult</th>\n",
              "    </tr>\n",
              "  </thead>\n",
              "  <tbody>\n",
              "    <tr>\n",
              "      <th>0</th>\n",
              "      <td>kwasia</td>\n",
              "      <td>1.0</td>\n",
              "    </tr>\n",
              "    <tr>\n",
              "      <th>1</th>\n",
              "      <td>kwasiaa</td>\n",
              "      <td>1.0</td>\n",
              "    </tr>\n",
              "    <tr>\n",
              "      <th>2</th>\n",
              "      <td>kwasiaaa</td>\n",
              "      <td>1.0</td>\n",
              "    </tr>\n",
              "    <tr>\n",
              "      <th>3</th>\n",
              "      <td>woti wai</td>\n",
              "      <td>1.0</td>\n",
              "    </tr>\n",
              "    <tr>\n",
              "      <th>4</th>\n",
              "      <td>woti s3 fam</td>\n",
              "      <td>1.0</td>\n",
              "    </tr>\n",
              "  </tbody>\n",
              "</table>\n",
              "</div>\n",
              "      <button class=\"colab-df-convert\" onclick=\"convertToInteractive('df-9bba0135-049b-4e9d-94c3-48ecb3d50477')\"\n",
              "              title=\"Convert this dataframe to an interactive table.\"\n",
              "              style=\"display:none;\">\n",
              "        \n",
              "  <svg xmlns=\"http://www.w3.org/2000/svg\" height=\"24px\"viewBox=\"0 0 24 24\"\n",
              "       width=\"24px\">\n",
              "    <path d=\"M0 0h24v24H0V0z\" fill=\"none\"/>\n",
              "    <path d=\"M18.56 5.44l.94 2.06.94-2.06 2.06-.94-2.06-.94-.94-2.06-.94 2.06-2.06.94zm-11 1L8.5 8.5l.94-2.06 2.06-.94-2.06-.94L8.5 2.5l-.94 2.06-2.06.94zm10 10l.94 2.06.94-2.06 2.06-.94-2.06-.94-.94-2.06-.94 2.06-2.06.94z\"/><path d=\"M17.41 7.96l-1.37-1.37c-.4-.4-.92-.59-1.43-.59-.52 0-1.04.2-1.43.59L10.3 9.45l-7.72 7.72c-.78.78-.78 2.05 0 2.83L4 21.41c.39.39.9.59 1.41.59.51 0 1.02-.2 1.41-.59l7.78-7.78 2.81-2.81c.8-.78.8-2.07 0-2.86zM5.41 20L4 18.59l7.72-7.72 1.47 1.35L5.41 20z\"/>\n",
              "  </svg>\n",
              "      </button>\n",
              "      \n",
              "  <style>\n",
              "    .colab-df-container {\n",
              "      display:flex;\n",
              "      flex-wrap:wrap;\n",
              "      gap: 12px;\n",
              "    }\n",
              "\n",
              "    .colab-df-convert {\n",
              "      background-color: #E8F0FE;\n",
              "      border: none;\n",
              "      border-radius: 50%;\n",
              "      cursor: pointer;\n",
              "      display: none;\n",
              "      fill: #1967D2;\n",
              "      height: 32px;\n",
              "      padding: 0 0 0 0;\n",
              "      width: 32px;\n",
              "    }\n",
              "\n",
              "    .colab-df-convert:hover {\n",
              "      background-color: #E2EBFA;\n",
              "      box-shadow: 0px 1px 2px rgba(60, 64, 67, 0.3), 0px 1px 3px 1px rgba(60, 64, 67, 0.15);\n",
              "      fill: #174EA6;\n",
              "    }\n",
              "\n",
              "    [theme=dark] .colab-df-convert {\n",
              "      background-color: #3B4455;\n",
              "      fill: #D2E3FC;\n",
              "    }\n",
              "\n",
              "    [theme=dark] .colab-df-convert:hover {\n",
              "      background-color: #434B5C;\n",
              "      box-shadow: 0px 1px 3px 1px rgba(0, 0, 0, 0.15);\n",
              "      filter: drop-shadow(0px 1px 2px rgba(0, 0, 0, 0.3));\n",
              "      fill: #FFFFFF;\n",
              "    }\n",
              "  </style>\n",
              "\n",
              "      <script>\n",
              "        const buttonEl =\n",
              "          document.querySelector('#df-9bba0135-049b-4e9d-94c3-48ecb3d50477 button.colab-df-convert');\n",
              "        buttonEl.style.display =\n",
              "          google.colab.kernel.accessAllowed ? 'block' : 'none';\n",
              "\n",
              "        async function convertToInteractive(key) {\n",
              "          const element = document.querySelector('#df-9bba0135-049b-4e9d-94c3-48ecb3d50477');\n",
              "          const dataTable =\n",
              "            await google.colab.kernel.invokeFunction('convertToInteractive',\n",
              "                                                     [key], {});\n",
              "          if (!dataTable) return;\n",
              "\n",
              "          const docLinkHtml = 'Like what you see? Visit the ' +\n",
              "            '<a target=\"_blank\" href=https://colab.research.google.com/notebooks/data_table.ipynb>data table notebook</a>'\n",
              "            + ' to learn more about interactive tables.';\n",
              "          element.innerHTML = '';\n",
              "          dataTable['output_type'] = 'display_data';\n",
              "          await google.colab.output.renderOutput(dataTable, element);\n",
              "          const docLink = document.createElement('div');\n",
              "          docLink.innerHTML = docLinkHtml;\n",
              "          element.appendChild(docLink);\n",
              "        }\n",
              "      </script>\n",
              "    </div>\n",
              "  </div>\n",
              "  "
            ]
          },
          "metadata": {},
          "execution_count": 17
        }
      ]
    },
    {
      "cell_type": "code",
      "source": [
        "feature = train.drop(['Comment'], axis=1)  \n",
        "counts = []                                             \n",
        "categories = list(feature.columns.values)\n",
        "for i in categories:\n",
        "    counts.append((i, feature[i].sum()))\n",
        "    \n",
        "df_1 = pd.DataFrame(counts, columns=['Feature Labels', 'Total Comments'])  \n",
        "df_1.plot(x='Feature Labels', y='Total Comments', kind='bar',figsize=(8,8))\n",
        "plt.title(\"Comments per category\")\n",
        "plt.ylabel('Total comments', fontsize=12)\n",
        "plt.xlabel('Feature Labels', fontsize=12)"
      ],
      "metadata": {
        "execution": {
          "iopub.status.busy": "2022-07-15T15:39:32.173559Z",
          "iopub.execute_input": "2022-07-15T15:39:32.173941Z",
          "iopub.status.idle": "2022-07-15T15:39:32.387072Z",
          "shell.execute_reply.started": "2022-07-15T15:39:32.173902Z",
          "shell.execute_reply": "2022-07-15T15:39:32.386103Z"
        },
        "trusted": true,
        "colab": {
          "base_uri": "https://localhost:8080/",
          "height": 550
        },
        "id": "iG4uF5KSnXH4",
        "outputId": "3f1de5bf-9d3f-4f52-e43c-64e580b6c6ee"
      },
      "execution_count": 27,
      "outputs": [
        {
          "output_type": "execute_result",
          "data": {
            "text/plain": [
              "Text(0.5, 0, 'Feature Labels')"
            ]
          },
          "metadata": {},
          "execution_count": 27
        },
        {
          "output_type": "display_data",
          "data": {
            "text/plain": [
              "<Figure size 576x576 with 1 Axes>"
            ],
            "image/png": "[encoded data removed]"
          },
          "metadata": {
            "needs_background": "light"
          }
        }
      ]
    },
    {
      "cell_type": "markdown",
      "source": [
        "## Text preprocessing\n"
      ],
      "metadata": {
        "id": "fsZwO9t5nXH6"
      }
    },
    {
      "cell_type": "code",
      "source": [
        "import string\n",
        "\n",
        "def remove_special_chars(text):\n",
        "    re1 = re.compile(r'  +')\n",
        "    x1 = text.lower().replace('#39;', \"'\").replace('amp;', '&').replace('#146;', \"'\").replace(\n",
        "        'nbsp;', ' ').replace('#36;', '$').replace('\\\\n', \"\\n\").replace('quot;', \"'\").replace(\n",
        "        '<br />', \"\\n\").replace('\\\\\"', '\"').replace('<unk>', 'u_n').replace(' @.@ ', '.').replace(\n",
        "        ' @-@ ', '-').replace('\\\\', ' \\\\ ')\n",
        "    return re1.sub(' ', html.unescape(x1))\n",
        "\n",
        "\n",
        "def to_lowercase(text):\n",
        "    return text.lower()\n",
        "\n",
        "\n",
        "\n",
        "def remove_punctuation(text):\n",
        "    \"\"\"Remove punctuation from list of tokenized words\"\"\"\n",
        "    translator = str.maketrans('', '', string.punctuation)\n",
        "    return text.translate(translator)\n",
        "\n",
        "\n",
        "def replace_numbers(text):\n",
        "    \"\"\"Replace all interger occurrences in list of tokenized words with textual representation\"\"\"\n",
        "    return re.sub(r'\\d+', '', text)\n",
        "\n",
        "\n",
        "def remove_whitespaces(text):\n",
        "    return text.strip()\n",
        "\n",
        "\n",
        "def remove_stopwords(words, stop_words):\n",
        "    \"\"\"Remove stopwords\"\"\"\n",
        "    return [word for word in words if word not in stop_words]\n",
        "\n",
        "\n",
        "def stem_words(words):\n",
        "    \"\"\"Stem words in text\"\"\"\n",
        "    stemmer = PorterStemmer()\n",
        "    return [stemmer.stem(word) for word in words]\n",
        "\n",
        "def lemmatize_words(words):\n",
        "    \"\"\"Lemmatize words in text\"\"\"\n",
        "\n",
        "    lemmatizer = WordNetLemmatizer()\n",
        "    return [lemmatizer.lemmatize(word) for word in words]\n",
        "\n",
        "def lemmatize_verbs(words):\n",
        "    \"\"\"Lemmatize verbs in text\"\"\"\n",
        "\n",
        "    lemmatizer = WordNetLemmatizer()\n",
        "    return ' '.join([lemmatizer.lemmatize(word, pos='v') for word in words])\n",
        "\n",
        "def text2words(text):\n",
        "    return word_tokenize(text)\n",
        "\n",
        "def clean_text( text):\n",
        "    text = remove_special_chars(text)\n",
        "    text = remove_punctuation(text)\n",
        "    text = to_lowercase(text)\n",
        "    text = replace_numbers(text)\n",
        "    words = text2words(text)\n",
        "    words = remove_stopwords(words, stop_words)\n",
        "    #words = stem_words(words)# Either stem ovocar lemmatize\n",
        "    words = lemmatize_words(words)\n",
        "    words = lemmatize_verbs(words)\n",
        "\n",
        "    return ''.join(words)\n",
        "\n",
        "train['Comment'] = train['Comment'].apply(lambda x: clean_text(x))\n",
        "train.sample(1)['Comment'].values[0]\n"
      ],
      "metadata": {
        "execution": {
          "iopub.status.busy": "2022-07-15T15:39:32.388870Z",
          "iopub.execute_input": "2022-07-15T15:39:32.389281Z",
          "iopub.status.idle": "2022-07-15T15:42:19.852652Z",
          "shell.execute_reply.started": "2022-07-15T15:39:32.389241Z",
          "shell.execute_reply": "2022-07-15T15:42:19.851572Z"
        },
        "trusted": true,
        "colab": {
          "base_uri": "https://localhost:8080/",
          "height": 35
        },
        "id": "z6-Yd1y1nXH-",
        "outputId": "c46f5a50-612d-4a25-f496-41cc8a076e3e"
      },
      "execution_count": 28,
      "outputs": [
        {
          "output_type": "execute_result",
          "data": {
            "text/plain": [
              "'ask mother'"
            ],
            "application/vnd.google.colaboratory.intrinsic+json": {
              "type": "string"
            }
          },
          "metadata": {},
          "execution_count": 28
        }
      ]
    },
    {
      "cell_type": "code",
      "source": [
        "test['Comment'] = test['Comment'].apply(lambda x: clean_text(x))\n",
        "test.sample(1)[\"Comment\"].values[0]"
      ],
      "metadata": {
        "execution": {
          "iopub.status.busy": "2022-07-15T15:42:19.854052Z",
          "iopub.execute_input": "2022-07-15T15:42:19.854520Z",
          "iopub.status.idle": "2022-07-15T15:44:48.546031Z",
          "shell.execute_reply.started": "2022-07-15T15:42:19.854483Z",
          "shell.execute_reply": "2022-07-15T15:44:48.545109Z"
        },
        "trusted": true,
        "colab": {
          "base_uri": "https://localhost:8080/",
          "height": 35
        },
        "id": "H0IRcywTnXID",
        "outputId": "b7e4fe62-4d95-4d50-ea52-eaaf1bf36d66"
      },
      "execution_count": 29,
      "outputs": [
        {
          "output_type": "execute_result",
          "data": {
            "text/plain": [
              "'least thats revert talk contribs'"
            ],
            "application/vnd.google.colaboratory.intrinsic+json": {
              "type": "string"
            }
          },
          "metadata": {},
          "execution_count": 29
        }
      ]
    },
    {
      "cell_type": "markdown",
      "source": [
        "## BoW "
      ],
      "metadata": {
        "id": "qtl33z8-nXIG"
      }
    },
    {
      "cell_type": "code",
      "source": [
        "tok = Tokenizer(num_words=1000, oov_token='UNK')\n",
        "tok.fit_on_texts(train['Comment'] )\n",
        "# Extract binary BoW features\n",
        "x_train = tok.texts_to_sequences(train['Comment'])\n",
        "x_test = tok.texts_to_sequences(test['Comment'])\n",
        "\n",
        "vocab_size = len(tok.word_index) + 1\n",
        "vocab_size"
      ],
      "metadata": {
        "execution": {
          "iopub.status.busy": "2022-07-15T15:44:48.547903Z",
          "iopub.execute_input": "2022-07-15T15:44:48.548281Z",
          "iopub.status.idle": "2022-07-15T15:45:04.480403Z",
          "shell.execute_reply.started": "2022-07-15T15:44:48.548247Z",
          "shell.execute_reply": "2022-07-15T15:45:04.479326Z"
        },
        "trusted": true,
        "colab": {
          "base_uri": "https://localhost:8080/"
        },
        "id": "orOqVBv2nXIH",
        "outputId": "8d5a2421-469f-4dec-aef9-ab4dd93d4121"
      },
      "execution_count": 31,
      "outputs": [
        {
          "output_type": "execute_result",
          "data": {
            "text/plain": [
              "66284"
            ]
          },
          "metadata": {},
          "execution_count": 31
        }
      ]
    },
    {
      "cell_type": "markdown",
      "source": [
        "## LSTM"
      ],
      "metadata": {
        "id": "jvcFY8DmnXIJ"
      }
    },
    {
      "cell_type": "code",
      "source": [
        "maxlen = max([len(t) for t in x_train])\n",
        "maxlen\n"
      ],
      "metadata": {
        "execution": {
          "iopub.status.busy": "2022-07-15T15:45:04.482016Z",
          "iopub.execute_input": "2022-07-15T15:45:04.482400Z",
          "iopub.status.idle": "2022-07-15T15:45:04.506971Z",
          "shell.execute_reply.started": "2022-07-15T15:45:04.482365Z",
          "shell.execute_reply": "2022-07-15T15:45:04.506122Z"
        },
        "trusted": true,
        "colab": {
          "base_uri": "https://localhost:8080/"
        },
        "id": "IA35va5ZnXIK",
        "outputId": "c8d3f8a5-7404-4e24-abcf-6bb7ee562e97"
      },
      "execution_count": 32,
      "outputs": [
        {
          "output_type": "execute_result",
          "data": {
            "text/plain": [
              "1250"
            ]
          },
          "metadata": {},
          "execution_count": 32
        }
      ]
    },
    {
      "cell_type": "code",
      "source": [
        "training_padded = pad_sequences(x_train,\n",
        "                                maxlen=50, \n",
        "                                truncating='post', \n",
        "                                padding='post'\n",
        "                               )\n",
        "test_padded = pad_sequences(x_test,\n",
        "                            maxlen=50, \n",
        "                            truncating='post', \n",
        "                            padding='post'\n",
        "                               )\n",
        "\n"
      ],
      "metadata": {
        "execution": {
          "iopub.status.busy": "2022-07-15T15:45:04.508233Z",
          "iopub.execute_input": "2022-07-15T15:45:04.508665Z",
          "iopub.status.idle": "2022-07-15T15:45:05.998529Z",
          "shell.execute_reply.started": "2022-07-15T15:45:04.508629Z",
          "shell.execute_reply": "2022-07-15T15:45:05.997539Z"
        },
        "trusted": true,
        "id": "V3nqIm0snXIN"
      },
      "execution_count": 33,
      "outputs": []
    },
    {
      "cell_type": "code",
      "source": [
        "model = models.Sequential()\n",
        "model.add(layers.Embedding(vocab_size, 128, input_length=50))\n",
        "model.add(layers.LSTM(512, dropout=0.2, recurrent_dropout=0.2, return_sequences=True))\n",
        "model.add(layers.LSTM(128, dropout=0.2,recurrent_dropout=0.2))\n",
        "model.add(layers.Dense(16, activation='relu'))\n",
        "model.add(layers.Dense(1, activation='sigmoid'))\n",
        "\n",
        "\n",
        "\n",
        "\n",
        "model.compile(\n",
        "    loss='binary_crossentropy',\n",
        "    optimizer='Adamax',\n",
        "    metrics=['accuracy'])\n",
        "\n",
        "model.summary()"
      ],
      "metadata": {
        "execution": {
          "iopub.status.busy": "2022-07-15T15:45:06.002698Z",
          "iopub.execute_input": "2022-07-15T15:45:06.002982Z",
          "iopub.status.idle": "2022-07-15T15:45:06.353451Z",
          "shell.execute_reply.started": "2022-07-15T15:45:06.002957Z",
          "shell.execute_reply": "2022-07-15T15:45:06.352457Z"
        },
        "trusted": true,
        "colab": {
          "base_uri": "https://localhost:8080/"
        },
        "id": "nnnwxuCknXIO",
        "outputId": "018af5af-02b8-46bb-af8a-78cfd87c72bb"
      },
      "execution_count": 39,
      "outputs": [
        {
          "output_type": "stream",
          "name": "stdout",
          "text": [
            "Model: \"sequential_1\"\n",
            "_________________________________________________________________\n",
            " Layer (type)                Output Shape              Param #   \n",
            "=================================================================\n",
            " embedding_1 (Embedding)     (None, 50, 128)           8484352   \n",
            "                                                                 \n",
            " lstm_2 (LSTM)               (None, 50, 512)           1312768   \n",
            "                                                                 \n",
            " lstm_3 (LSTM)               (None, 128)               328192    \n",
            "                                                                 \n",
            " dense_2 (Dense)             (None, 16)                2064      \n",
            "                                                                 \n",
            " dense_3 (Dense)             (None, 1)                 17        \n",
            "                                                                 \n",
            "=================================================================\n",
            "Total params: 10,127,393\n",
            "Trainable params: 10,127,393\n",
            "Non-trainable params: 0\n",
            "_________________________________________________________________\n"
          ]
        }
      ]
    },
    {
      "cell_type": "code",
      "source": [
        "history = model.fit(training_padded,\n",
        "                     train[['Insult']],\n",
        "                    epochs=4,\n",
        "                    batch_size=512,\n",
        "                   validation_split=0.2)"
      ],
      "metadata": {
        "execution": {
          "iopub.status.busy": "2022-07-15T15:45:06.354712Z",
          "iopub.execute_input": "2022-07-15T15:45:06.356435Z",
          "iopub.status.idle": "2022-07-15T15:54:32.236910Z",
          "shell.execute_reply.started": "2022-07-15T15:45:06.356395Z",
          "shell.execute_reply": "2022-07-15T15:54:32.235634Z"
        },
        "trusted": true,
        "colab": {
          "base_uri": "https://localhost:8080/"
        },
        "id": "u2ZeMEh4nXIP",
        "outputId": "67738bf1-6108-4737-b17d-b14a146bd1ca"
      },
      "execution_count": 40,
      "outputs": [
        {
          "output_type": "stream",
          "name": "stdout",
          "text": [
            "Epoch 1/5\n",
            "55/55 [==============================] - 427s 8s/step - loss: 0.6132 - accuracy: 0.6519 - val_loss: nan - val_accuracy: 0.8724\n",
            "Epoch 2/5\n",
            "55/55 [==============================] - 418s 8s/step - loss: 0.3806 - accuracy: 0.8282 - val_loss: nan - val_accuracy: 0.7536\n",
            "Epoch 3/5\n",
            "55/55 [==============================] - 414s 8s/step - loss: 0.3289 - accuracy: 0.8579 - val_loss: nan - val_accuracy: 0.8863\n",
            "Epoch 4/5\n",
            "55/55 [==============================] - 414s 8s/step - loss: 0.2991 - accuracy: 0.8675 - val_loss: nan - val_accuracy: 0.8254\n",
            "Epoch 5/5\n",
            "55/55 [==============================] - 416s 8s/step - loss: 0.2962 - accuracy: 0.8694 - val_loss: nan - val_accuracy: 0.8842\n"
          ]
        }
      ]
    },
    {
      "cell_type": "markdown",
      "source": [
        "## Bidirectional"
      ],
      "metadata": {
        "id": "ZIMdu0JMnXIX"
      }
    },
    {
      "cell_type": "code",
      "source": [
        "\n",
        "lstm_dim = 32\n",
        "model_bilstm = models.Sequential()\n",
        "model_bilstm.add(layers.Embedding(vocab_size, 512, input_length=50))\n",
        "model_bilstm.add(layers.Bidirectional(layers.LSTM(128, dropout=0.2, recurrent_dropout=0.2, return_sequences=True)))\n",
        "model_bilstm.add(layers.Flatten())\n",
        "model_bilstm.add(layers.Dense(16, activation='relu'))\n",
        "model_bilstm.add(layers.Dense(1, activation='sigmoid'))\n",
        "\n",
        "\n",
        "model_bilstm.compile(loss='binary_crossentropy',optimizer='adam',metrics=['accuracy'])\n",
        "\n",
        "# Print the model summary\n",
        "model_bilstm.summary()\n",
        "\n",
        "history = model_bilstm.fit(training_padded,\n",
        "                     train[[ 'Insult']],\n",
        "                    epochs=5,\n",
        "                    batch_size=512,\n",
        "                   validation_split=0.2)"
      ],
      "metadata": {
        "execution": {
          "iopub.status.busy": "2022-07-15T15:54:32.657489Z",
          "iopub.execute_input": "2022-07-15T15:54:32.657819Z",
          "iopub.status.idle": "2022-07-15T16:04:59.153977Z",
          "shell.execute_reply.started": "2022-07-15T15:54:32.657784Z",
          "shell.execute_reply": "2022-07-15T16:04:59.152961Z"
        },
        "trusted": true,
        "id": "Pg3dH8xNnXIY"
      },
      "execution_count": null,
      "outputs": []
    },
    {
      "cell_type": "markdown",
      "source": [
        "#Saving the Model"
      ],
      "metadata": {
        "id": "zcvQe6A2Gaov"
      }
    },
    {
      "cell_type": "code",
      "source": [
        "pickle.dump(history, open(\"saved_model.pkl\", \"wb\"))"
      ],
      "metadata": {
        "colab": {
          "base_uri": "https://localhost:8080/"
        },
        "id": "KZcpUpQKGeYJ",
        "outputId": "c56b249d-6cc6-4baf-ce9c-b242e5822c82"
      },
      "execution_count": 47,
      "outputs": [
        {
          "output_type": "stream",
          "name": "stdout",
          "text": [
            "INFO:tensorflow:Assets written to: ram://fdf7e621-03c3-449e-b2e2-abd6d167f1b8/assets\n"
          ]
        },
        {
          "output_type": "stream",
          "name": "stderr",
          "text": [
            "INFO:tensorflow:Assets written to: ram://fdf7e621-03c3-449e-b2e2-abd6d167f1b8/assets\n",
            "WARNING:absl:<keras.layers.recurrent.LSTMCell object at 0x7f9ca05319d0> has the same name 'LSTMCell' as a built-in Keras object. Consider renaming <class 'keras.layers.recurrent.LSTMCell'> to avoid naming conflicts when loading with `tf.keras.models.load_model`. If renaming is not possible, pass the object in the `custom_objects` parameter of the load function.\n",
            "WARNING:absl:<keras.layers.recurrent.LSTMCell object at 0x7f9ca04d41d0> has the same name 'LSTMCell' as a built-in Keras object. Consider renaming <class 'keras.layers.recurrent.LSTMCell'> to avoid naming conflicts when loading with `tf.keras.models.load_model`. If renaming is not possible, pass the object in the `custom_objects` parameter of the load function.\n"
          ]
        }
      ]
    },
    {
      "cell_type": "code",
      "source": [
        "|"
      ],
      "metadata": {
        "id": "G8LlwuTqG9RF"
      },
      "execution_count": null,
      "outputs": []
    }
  ]
}