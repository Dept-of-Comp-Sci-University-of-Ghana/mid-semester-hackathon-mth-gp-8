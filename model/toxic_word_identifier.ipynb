{
  "cells": [
    {
      "cell_type": "code",
      "execution_count": 2,
      "metadata": {
        "colab": {
          "base_uri": "https://localhost:8080/"
        },
        "id": "BGV4m4jlnXHw",
        "outputId": "77891e50-ad36-414f-870b-d8e2fa9413e5"
      },
      "outputs": [
        {
          "output_type": "stream",
          "name": "stderr",
          "text": [
            "[nltk_data] Downloading package stopwords to /root/nltk_data...\n",
            "[nltk_data]   Package stopwords is already up-to-date!\n",
            "[nltk_data] Downloading package punkt to /root/nltk_data...\n",
            "[nltk_data]   Package punkt is already up-to-date!\n",
            "[nltk_data] Downloading package wordnet to /root/nltk_data...\n",
            "[nltk_data]   Package wordnet is already up-to-date!\n",
            "[nltk_data] Downloading package omw-1.4 to /root/nltk_data...\n",
            "[nltk_data]   Package omw-1.4 is already up-to-date!\n"
          ]
        }
      ],
      "source": [
        "import numpy as np\n",
        "import pandas as pd\n",
        "import seaborn as sns\n",
        "from matplotlib import pyplot as plt\n",
        "\n",
        "import nltk\n",
        "from nltk.stem.porter import PorterStemmer\n",
        "from nltk.stem import WordNetLemmatizer\n",
        "from nltk.tokenize import word_tokenize\n",
        "\n",
        "from nltk.corpus import stopwords\n",
        "nltk.download('stopwords')\n",
        "nltk.download('punkt')\n",
        "nltk.download('wordnet')\n",
        "nltk.download('omw-1.4')\n",
        "stop_words = stopwords.words('english')\n",
        "import html\n",
        "import unicodedata\n",
        "\n",
        "import spacy\n",
        "import pandas as pd\n",
        "import numpy as np\n",
        "from tqdm.auto import tqdm\n",
        "import re\n",
        "import string\n",
        "\n",
        "import seaborn as sns\n",
        "import matplotlib.pyplot as plt\n",
        "\n",
        "import pickle"
      ]
    },
    {
      "cell_type": "code",
      "execution_count": 15,
      "metadata": {
        "colab": {
          "base_uri": "https://localhost:8080/"
        },
        "id": "nElAj-VtnXHz",
        "outputId": "4d8edc09-13c2-476f-8c2b-1c830ed4e923"
      },
      "outputs": [
        {
          "output_type": "stream",
          "name": "stdout",
          "text": [
            "(159572, 2)\n",
            "(159572, 2)\n"
          ]
        }
      ],
      "source": [
        "# load data\n",
        "train = pd.read_csv('/content/train.csv')\n",
        "test = pd.read_csv('/content/train.csv')\n"
      ]
    },
    {
      "cell_type": "code",
      "execution_count": 16,
      "metadata": {
        "colab": {
          "base_uri": "https://localhost:8080/"
        },
        "id": "rGZ4bAWZnXH1",
        "outputId": "fe48e88a-aaf6-43de-87e0-2e806562e85e"
      },
      "outputs": [
        {
          "output_type": "stream",
          "name": "stdout",
          "text": [
            "(29934, 2)\n",
            "(29934, 2)\n"
          ]
        }
      ],
      "source": [
        "#sample text to visualize\n",
        "train.dropna(inplace=True)\n",
        "test.dropna(inplace=True)\n",
        "print(test.shape)\n",
        "print(train.shape)"
      ]
    },
    {
      "cell_type": "code",
      "execution_count": 17,
      "metadata": {
        "colab": {
          "base_uri": "https://localhost:8080/",
          "height": 550
        },
        "id": "iG4uF5KSnXH4",
        "outputId": "591faa28-097a-4b7b-a11b-bad4006c9a16"
      },
      "outputs": [
        {
          "output_type": "execute_result",
          "data": {
            "text/plain": [
              "Text(0.5, 0, 'Feature Labels')"
            ]
          },
          "metadata": {},
          "execution_count": 17
        },
        {
          "output_type": "display_data",
          "data": {
            "text/plain": [
              "<Figure size 576x576 with 1 Axes>"
            ],
            "image/png": "[encoded data removed]"
          },
          "metadata": {
            "needs_background": "light"
          }
        }
      ],
      "source": [
        "feature = train.drop(['Comment'], axis=1)  \n",
        "counts = []                                             \n",
        "categories = list(feature.columns.values)\n",
        "for i in categories:\n",
        "    counts.append((i, feature[i].sum()))\n",
        "    \n",
        "df_1 = pd.DataFrame(counts, columns=['Feature Labels', 'Total Comments'])  \n",
        "df_1.plot(x='Feature Labels', y='Total Comments', kind='bar',figsize=(8,8))\n",
        "plt.title(\"Comments per category\")\n",
        "plt.ylabel('Total comments', fontsize=12)\n",
        "plt.xlabel('Feature Labels', fontsize=12)"
      ]
    },
    {
      "cell_type": "markdown",
      "metadata": {
        "id": "fsZwO9t5nXH6"
      },
      "source": [
        "## Text preprocessing\n"
      ]
    },
    {
      "cell_type": "code",
      "execution_count": 18,
      "metadata": {
        "colab": {
          "base_uri": "https://localhost:8080/",
          "height": 70
        },
        "id": "z6-Yd1y1nXH-",
        "outputId": "3aa276a4-b311-465e-c281-43e4966b3c8e"
      },
      "outputs": [
        {
          "output_type": "execute_result",
          "data": {
            "text/plain": [
              "'eventually foresee acorn self serve spin doctor crap get article preface david lagstein spokesman acorn detroit office say surely dont want version go unchallenged moncrief work project vote closelyintertwined symbiotic acorn subsidiary three year long obama senator call fire acorn worker anita moncrief put fact article let reader decide id like review people profession call reliability indicator get catch lie face year prison perjury charge lagstein get catch lie face consequence whatsoever answer gm analogy article talk page youve carefully avoid'"
            ],
            "application/vnd.google.colaboratory.intrinsic+json": {
              "type": "string"
            }
          },
          "metadata": {},
          "execution_count": 18
        }
      ],
      "source": [
        "import string\n",
        "\n",
        "def remove_special_chars(text):\n",
        "    re1 = re.compile(r'  +')\n",
        "    x1 = text.lower().replace('#39;', \"'\").replace('amp;', '&').replace('#146;', \"'\").replace(\n",
        "        'nbsp;', ' ').replace('#36;', '$').replace('\\\\n', \"\\n\").replace('quot;', \"'\").replace(\n",
        "        '<br />', \"\\n\").replace('\\\\\"', '\"').replace('<unk>', 'u_n').replace(' @.@ ', '.').replace(\n",
        "        ' @-@ ', '-').replace('\\\\', ' \\\\ ')\n",
        "    return re1.sub(' ', html.unescape(x1))\n",
        "\n",
        "\n",
        "def to_lowercase(text):\n",
        "    return text.lower()\n",
        "\n",
        "\n",
        "\n",
        "def remove_punctuation(text):\n",
        "    \"\"\"Remove punctuation from list of tokenized words\"\"\"\n",
        "    translator = str.maketrans('', '', string.punctuation)\n",
        "    return text.translate(translator)\n",
        "\n",
        "\n",
        "def replace_numbers(text):\n",
        "    \"\"\"Replace all interger occurrences in list of tokenized words with textual representation\"\"\"\n",
        "    return re.sub(r'\\d+', '', text)\n",
        "\n",
        "\n",
        "def remove_whitespaces(text):\n",
        "    return text.strip()\n",
        "\n",
        "\n",
        "def remove_stopwords(words, stop_words):\n",
        "    \"\"\"Remove stopwords\"\"\"\n",
        "    return [word for word in words if word not in stop_words]\n",
        "\n",
        "\n",
        "def stem_words(words):\n",
        "    \"\"\"Stem words in text\"\"\"\n",
        "    stemmer = PorterStemmer()\n",
        "    return [stemmer.stem(word) for word in words]\n",
        "\n",
        "def lemmatize_words(words):\n",
        "    \"\"\"Lemmatize words in text\"\"\"\n",
        "\n",
        "    lemmatizer = WordNetLemmatizer()\n",
        "    return [lemmatizer.lemmatize(word) for word in words]\n",
        "\n",
        "def lemmatize_verbs(words):\n",
        "    \"\"\"Lemmatize verbs in text\"\"\"\n",
        "\n",
        "    lemmatizer = WordNetLemmatizer()\n",
        "    return ' '.join([lemmatizer.lemmatize(word, pos='v') for word in words])\n",
        "\n",
        "def text2words(text):\n",
        "    return word_tokenize(text)\n",
        "\n",
        "def clean_text( text):\n",
        "    text = remove_special_chars(text)\n",
        "    text = remove_punctuation(text)\n",
        "    text = to_lowercase(text)\n",
        "    text = replace_numbers(text)\n",
        "    words = text2words(text)\n",
        "    words = remove_stopwords(words, stop_words)\n",
        "    #words = stem_words(words)# Either stem ovocar lemmatize\n",
        "    words = lemmatize_words(words)\n",
        "    words = lemmatize_verbs(words)\n",
        "\n",
        "    return ''.join(words)\n",
        "\n",
        "train['Comment'] = train['Comment'].apply(lambda x: clean_text(x))\n",
        "train.sample(1)['Comment'].values[0]\n"
      ]
    },
    {
      "cell_type": "code",
      "execution_count": 19,
      "metadata": {
        "colab": {
          "base_uri": "https://localhost:8080/",
          "height": 53
        },
        "id": "H0IRcywTnXID",
        "outputId": "bee7f391-3b3c-4e26-937f-159d24cf65dc"
      },
      "outputs": [
        {
          "output_type": "execute_result",
          "data": {
            "text/plain": [
              "'senegal fast food hi wonder could help see speak bite bambara wonder know song senegal fast food amadou mariam know second chorus quelle heures est il en paradis bite bambara would good true word either english original language cant help dont worry thank'"
            ],
            "application/vnd.google.colaboratory.intrinsic+json": {
              "type": "string"
            }
          },
          "metadata": {},
          "execution_count": 19
        }
      ],
      "source": [
        "test['Comment'] = test['Comment'].apply(lambda x: clean_text(x))\n",
        "test.sample(1)[\"Comment\"].values[0]"
      ]
    },
    {
      "cell_type": "markdown",
      "source": [
        "# Support Vector Machine"
      ],
      "metadata": {
        "id": "bro_1-9r-W0o"
      }
    },
    {
      "cell_type": "code",
      "source": [
        "from sklearn.model_selection import train_test_split\n",
        "from sklearn import svm\n",
        "from sklearn.metrics import accuracy_score\n",
        "from sklearn.feature_extraction.text import TfidfVectorizer\n",
        "from sklearn.pipeline import Pipeline\n",
        "\n",
        "\n",
        "X = train[\"Comment\"]\n",
        "y = train['Insult']\n",
        "X_train,X_test,y_train,y_test = train_test_split(X,y,test_size=0.2,random_state=0, stratify=y)\n",
        "\n",
        "# Create a classifier in pipeline\n",
        "insult_classifier = Pipeline(steps=[\n",
        "                               ('pre_processing',TfidfVectorizer(max_features=5000)),\n",
        "                                 ('SVM',svm.SVC(C=1.0, kernel='linear', degree=3, gamma='auto'))\n",
        "                                 ])\n",
        "insult_classifier.fit(X_train, y_train)\n"
      ],
      "metadata": {
        "colab": {
          "base_uri": "https://localhost:8080/"
        },
        "id": "gppgVe0X-dyQ",
        "outputId": "7b30205b-0e27-4630-bd33-c34dd2c0e252"
      },
      "execution_count": 73,
      "outputs": [
        {
          "output_type": "stream",
          "name": "stdout",
          "text": [
            "SVM Accuracy Score -> 89.0262234842158\n"
          ]
        }
      ]
    },
    {
      "cell_type": "code",
      "source": [
        "predictions_SVM = insult_classifier.predict(X_test)\n",
        "print(f\"SVM Accuracy Score -> {accuracy_score(predictions_SVM, y_test)*100}\")"
      ],
      "metadata": {
        "colab": {
          "base_uri": "https://localhost:8080/"
        },
        "id": "LUycOT0wNGxL",
        "outputId": "d6e4e62f-c99c-43e3-c9ac-f7b9af3a7c30"
      },
      "execution_count": 33,
      "outputs": [
        {
          "output_type": "stream",
          "name": "stdout",
          "text": [
            "SVM Accuracy Score ->  88.94270920327376\n"
          ]
        }
      ]
    },
    {
      "cell_type": "code",
      "source": [
        "from sklearn.metrics import classification_report\n",
        "\n",
        "print(classification_report(y_test,predictions_SVM))"
      ],
      "metadata": {
        "colab": {
          "base_uri": "https://localhost:8080/"
        },
        "id": "IlMNFgafajjM",
        "outputId": "4037c10b-9068-4fdd-9e62-f06bdd90b823"
      },
      "execution_count": 75,
      "outputs": [
        {
          "output_type": "stream",
          "name": "stdout",
          "text": [
            "              precision    recall  f1-score   support\n",
            "\n",
            "         0.0       0.87      0.91      0.89      2929\n",
            "         1.0       0.91      0.87      0.89      3058\n",
            "\n",
            "    accuracy                           0.89      5987\n",
            "   macro avg       0.89      0.89      0.89      5987\n",
            "weighted avg       0.89      0.89      0.89      5987\n",
            "\n"
          ]
        }
      ]
    },
    {
      "cell_type": "markdown",
      "source": [
        "# Deep Learning Models"
      ],
      "metadata": {
        "id": "EdTNRu6O-OYb"
      }
    },
    {
      "cell_type": "markdown",
      "metadata": {
        "id": "qtl33z8-nXIG"
      },
      "source": [
        "## BoW "
      ]
    },
    {
      "cell_type": "code",
      "execution_count": 9,
      "metadata": {
        "colab": {
          "base_uri": "https://localhost:8080/"
        },
        "id": "orOqVBv2nXIH",
        "outputId": "c12bcd24-70e4-4147-9ac9-4cd5bea63fd1"
      },
      "outputs": [
        {
          "output_type": "execute_result",
          "data": {
            "text/plain": [
              "59080"
            ]
          },
          "metadata": {},
          "execution_count": 9
        }
      ],
      "source": [
        "from tensorflow.keras.preprocessing.text import Tokenizer  \n",
        "tok = Tokenizer(num_words=1000, oov_token='UNK')\n",
        "tok.fit_on_texts(train['Comment'] )\n",
        "# Extract binary BoW features\n",
        "x_train = tok.texts_to_sequences(train['Comment'])\n",
        "x_test = tok.texts_to_sequences(test['Comment'])\n",
        "\n",
        "vocab_size = len(tok.word_index) + 1\n",
        "vocab_size\n"
      ]
    },
    {
      "cell_type": "markdown",
      "metadata": {
        "id": "jvcFY8DmnXIJ"
      },
      "source": [
        "## LSTM"
      ]
    },
    {
      "cell_type": "code",
      "execution_count": 19,
      "metadata": {
        "colab": {
          "base_uri": "https://localhost:8080/",
          "height": 217
        },
        "id": "IA35va5ZnXIK",
        "outputId": "0610151d-82c0-485d-cb3c-93a6ebad9ec9"
      },
      "outputs": [
        {
          "output_type": "error",
          "ename": "NameError",
          "evalue": "ignored",
          "traceback": [
            "\u001b[0;31m---------------------------------------------------------------------------\u001b[0m",
            "\u001b[0;31mNameError\u001b[0m                                 Traceback (most recent call last)",
            "\u001b[0;32m<ipython-input-19-d3115fecb0c6>\u001b[0m in \u001b[0;36m<module>\u001b[0;34m()\u001b[0m\n\u001b[1;32m      9\u001b[0m \u001b[0;32mfrom\u001b[0m \u001b[0mtensorflow\u001b[0m\u001b[0;34m.\u001b[0m\u001b[0mkeras\u001b[0m\u001b[0;34m.\u001b[0m\u001b[0mutils\u001b[0m \u001b[0;32mimport\u001b[0m \u001b[0mplot_model\u001b[0m\u001b[0;34m\u001b[0m\u001b[0;34m\u001b[0m\u001b[0m\n\u001b[1;32m     10\u001b[0m \u001b[0;34m\u001b[0m\u001b[0m\n\u001b[0;32m---> 11\u001b[0;31m \u001b[0mmaxlen\u001b[0m \u001b[0;34m=\u001b[0m \u001b[0mmax\u001b[0m\u001b[0;34m(\u001b[0m\u001b[0;34m[\u001b[0m\u001b[0mlen\u001b[0m\u001b[0;34m(\u001b[0m\u001b[0mt\u001b[0m\u001b[0;34m)\u001b[0m \u001b[0;32mfor\u001b[0m \u001b[0mt\u001b[0m \u001b[0;32min\u001b[0m \u001b[0mx_train\u001b[0m\u001b[0;34m]\u001b[0m\u001b[0;34m)\u001b[0m\u001b[0;34m\u001b[0m\u001b[0;34m\u001b[0m\u001b[0m\n\u001b[0m\u001b[1;32m     12\u001b[0m \u001b[0mmaxlen\u001b[0m\u001b[0;34m\u001b[0m\u001b[0;34m\u001b[0m\u001b[0m\n",
            "\u001b[0;31mNameError\u001b[0m: name 'x_train' is not defined"
          ]
        }
      ],
      "source": [
        "from tensorflow.keras.preprocessing.text import text_to_word_sequence\n",
        "from tensorflow.keras.preprocessing.text import Tokenizer  \n",
        "from tensorflow.keras.preprocessing.sequence import pad_sequences\n",
        "from tensorflow.keras import models\n",
        "from tensorflow.keras import layers\n",
        "from tensorflow.keras import losses\n",
        "from tensorflow.keras import metrics\n",
        "from tensorflow.keras import optimizers\n",
        "from tensorflow.keras.utils import plot_model\n",
        "\n",
        "maxlen = max([len(t) for t in x_train])\n",
        "maxlen\n"
      ]
    },
    {
      "cell_type": "code",
      "execution_count": null,
      "metadata": {
        "id": "V3nqIm0snXIN"
      },
      "outputs": [],
      "source": [
        "training_padded = pad_sequences(x_train,\n",
        "                                maxlen=50, \n",
        "                                truncating='post', \n",
        "                                padding='post'\n",
        "                               )\n",
        "test_padded = pad_sequences(x_test,\n",
        "                            maxlen=50, \n",
        "                            truncating='post', \n",
        "                            padding='post'\n",
        "                               )\n",
        "\n"
      ]
    },
    {
      "cell_type": "code",
      "execution_count": null,
      "metadata": {
        "id": "nnnwxuCknXIO"
      },
      "outputs": [],
      "source": [
        "model = models.Sequential()\n",
        "model.add(layers.Embedding(vocab_size, 128, input_length=50))\n",
        "model.add(layers.LSTM(512, dropout=0.2, recurrent_dropout=0.2, return_sequences=True))\n",
        "model.add(layers.Dense(1, activation='sigmoid'))\n",
        "\n",
        "\n",
        "\n",
        "\n",
        "model.compile(\n",
        "    loss='binary_crossentropy',\n",
        "    optimizer='Adamax',\n",
        "    metrics=['accuracy'])\n",
        "\n",
        "model.summary()"
      ]
    },
    {
      "cell_type": "code",
      "execution_count": null,
      "metadata": {
        "id": "u2ZeMEh4nXIP"
      },
      "outputs": [],
      "source": [
        "history = model.fit(training_padded,\n",
        "                     train[['Insult']],\n",
        "                    epochs=1,\n",
        "                    batch_size=512,\n",
        "                   validation_split=0.2)\n"
      ]
    },
    {
      "cell_type": "markdown",
      "metadata": {
        "id": "ZIMdu0JMnXIX"
      },
      "source": [
        "## Bidirectional"
      ]
    },
    {
      "cell_type": "code",
      "source": [
        "history.model.predict([test_padded],batch_size=1024, verbose=1)"
      ],
      "metadata": {
        "id": "IbQRbFUoH988"
      },
      "execution_count": null,
      "outputs": []
    },
    {
      "cell_type": "code",
      "execution_count": null,
      "metadata": {
        "id": "Pg3dH8xNnXIY"
      },
      "outputs": [],
      "source": [
        "\n",
        "# lstm_dim = 32\n",
        "# model_bilstm = models.Sequential()\n",
        "# model_bilstm.add(layers.Embedding(vocab_size, 512, input_length=50))\n",
        "# model_bilstm.add(layers.Bidirectional(layers.LSTM(128, dropout=0.2, recurrent_dropout=0.2, return_sequences=True)))\n",
        "# model_bilstm.add(layers.Flatten())\n",
        "# model_bilstm.add(layers.Dense(16, activation='relu'))\n",
        "# model_bilstm.add(layers.Dense(1, activation='sigmoid'))\n",
        "\n",
        "\n",
        "# model_bilstm.compile(loss='binary_crossentropy',optimizer='adam',metrics=['accuracy'])\n",
        "\n",
        "# # Print the model summary\n",
        "# model_bilstm.summary()\n",
        "\n",
        "# history = model_bilstm.fit(training_padded,\n",
        "#                      train[[ 'Insult']],\n",
        "#                     epochs=2,\n",
        "#                     batch_size=512,\n",
        "#                    validation_split=0.2)"
      ]
    },
    {
      "cell_type": "markdown",
      "metadata": {
        "id": "zcvQe6A2Gaov"
      },
      "source": [
        "#Saving the Model"
      ]
    },
    {
      "cell_type": "code",
      "execution_count": 77,
      "metadata": {
        "id": "KZcpUpQKGeYJ"
      },
      "outputs": [],
      "source": [
        "pickle.dump(insult_classifier, open(\"/content/saved_model.pkl\", \"wb\"))"
      ]
    },
    {
      "cell_type": "code",
      "source": [
        "#tweet_vectorized = tfidf_vectorizer.transform([\"Hey my name is Christian. He said you are my bestie friend. Shall we\"])\n",
        "# Call the predict method on your vectorized tweets\n",
        "tweet_pred = insult_classifier.predict([\"Ama is telling the truth\"])\n",
        "tweet_pred\n"
      ],
      "metadata": {
        "colab": {
          "base_uri": "https://localhost:8080/"
        },
        "id": "4-6LA54lbY65",
        "outputId": "a7f3ab47-59ac-4622-9aef-45f849c95973"
      },
      "execution_count": 87,
      "outputs": [
        {
          "output_type": "execute_result",
          "data": {
            "text/plain": [
              "array([0.])"
            ]
          },
          "metadata": {},
          "execution_count": 87
        }
      ]
    },
    {
      "cell_type": "code",
      "source": [
        ""
      ],
      "metadata": {
        "id": "hrpCx8Fkda-0"
      },
      "execution_count": null,
      "outputs": []
    }
  ],
  "metadata": {
    "colab": {
      "name": "toxic_word_identifier.ipynb",
      "provenance": [],
      "collapsed_sections": [
        "EdTNRu6O-OYb"
      ]
    },
    "kernelspec": {
      "display_name": "Python 3",
      "language": "python",
      "name": "python3"
    },
    "language_info": {
      "codemirror_mode": {
        "name": "ipython",
        "version": 3
      },
      "file_extension": ".py",
      "mimetype": "text/x-python",
      "name": "python",
      "nbconvert_exporter": "python",
      "pygments_lexer": "ipython3",
      "version": "3.7.12"
    }
  },
  "nbformat": 4,
  "nbformat_minor": 0
}