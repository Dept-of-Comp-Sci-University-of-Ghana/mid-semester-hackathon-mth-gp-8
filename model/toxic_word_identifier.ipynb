{
  "cells": [
    {
      "cell_type": "code",
      "execution_count": 31,
      "metadata": {
        "colab": {
          "base_uri": "https://localhost:8080/"
        },
        "id": "BGV4m4jlnXHw",
        "outputId": "77891e50-ad36-414f-870b-d8e2fa9413e5"
      },
      "outputs": [],
      "source": [
        "import numpy as np\n",
        "import pandas as pd\n",
        "import seaborn as sns\n",
        "from matplotlib import pyplot as plt\n",
        "\n",
        "import nltk\n",
        "from nltk.stem.porter import PorterStemmer\n",
        "from nltk.stem import WordNetLemmatizer\n",
        "from nltk.tokenize import word_tokenize\n",
        "\n",
        "from nltk.corpus import stopwords\n",
        "# nltk.download('stopwords')\n",
        "# nltk.download('punkt')\n",
        "# nltk.download('wordnet')\n",
        "# nltk.download('omw-1.4')\n",
        "# stop_words = stopwords.words('english')\n",
        "import html\n",
        "import unicodedata\n",
        "\n",
        "import spacy\n",
        "import pandas as pd\n",
        "import numpy as np\n",
        "from tqdm.auto import tqdm\n",
        "import re\n",
        "import string\n",
        "\n",
        "import seaborn as sns\n",
        "import matplotlib.pyplot as plt\n",
        "\n",
        "import pickle"
      ]
    },
    {
      "cell_type": "markdown",
      "metadata": {},
      "source": [
        "DATA VISUALIZATION"
      ]
    },
    {
      "cell_type": "code",
      "execution_count": 32,
      "metadata": {
        "colab": {
          "base_uri": "https://localhost:8080/"
        },
        "id": "nElAj-VtnXHz",
        "outputId": "4d8edc09-13c2-476f-8c2b-1c830ed4e923"
      },
      "outputs": [],
      "source": [
        "# load data\n",
        "train = pd.read_csv('../dataset/train.csv')\n",
        "test = pd.read_csv('../dataset/train.csv')\n"
      ]
    },
    {
      "cell_type": "code",
      "execution_count": 33,
      "metadata": {
        "colab": {
          "base_uri": "https://localhost:8080/"
        },
        "id": "rGZ4bAWZnXH1",
        "outputId": "fe48e88a-aaf6-43de-87e0-2e806562e85e"
      },
      "outputs": [
        {
          "name": "stdout",
          "output_type": "stream",
          "text": [
            "(29934, 2)\n",
            "(29934, 2)\n"
          ]
        }
      ],
      "source": [
        "#sample text to visualize\n",
        "train.dropna(inplace=True)\n",
        "test.dropna(inplace=True)\n",
        "print(test.shape)\n",
        "print(train.shape)"
      ]
    },
    {
      "cell_type": "code",
      "execution_count": 34,
      "metadata": {
        "colab": {
          "base_uri": "https://localhost:8080/",
          "height": 550
        },
        "id": "iG4uF5KSnXH4",
        "outputId": "591faa28-097a-4b7b-a11b-bad4006c9a16"
      },
      "outputs": [
        {
          "data": {
            "text/plain": [
              "Text(0.5, 0, 'Feature Labels')"
            ]
          },
          "execution_count": 34,
          "metadata": {},
          "output_type": "execute_result"
        },
        {
          "data": {
            "image/png": "[encoded data removed]",
            "text/plain": [
              "<Figure size 576x576 with 1 Axes>"
            ]
          },
          "metadata": {
            "needs_background": "light"
          },
          "output_type": "display_data"
        }
      ],
      "source": [
        "feature = train.drop(['Comment'], axis=1)  \n",
        "counts = []                                             \n",
        "categories = list(feature.columns.values)\n",
        "for i in categories:\n",
        "    counts.append((i, feature[i].sum()))\n",
        "    \n",
        "df_1 = pd.DataFrame(counts, columns=['Feature Labels', 'Total Comments'])  \n",
        "df_1.plot(x='Feature Labels', y='Total Comments', kind='bar',figsize=(8,8))\n",
        "plt.title(\"Comments per category\")\n",
        "plt.ylabel('Total comments', fontsize=12)\n",
        "plt.xlabel('Feature Labels', fontsize=12)"
      ]
    },
    {
      "cell_type": "markdown",
      "metadata": {
        "id": "fsZwO9t5nXH6"
      },
      "source": [
        "## Text preprocessing\n"
      ]
    },
    {
      "cell_type": "code",
      "execution_count": 35,
      "metadata": {
        "colab": {
          "base_uri": "https://localhost:8080/",
          "height": 70
        },
        "id": "z6-Yd1y1nXH-",
        "outputId": "3aa276a4-b311-465e-c281-43e4966b3c8e"
      },
      "outputs": [
        {
          "data": {
            "text/plain": [
              "'yeah bunch whiney suck garbage problematic editor look spew gabemc post mine andreasesgdes talk page ben complain soon become apparent scale tip cocky editor favour admit complain apologie talk page harrassement childish looker buy political antic think meatpuppet even sockpuppet case arise nonsense future find way hard believe many editor feel like total idiot get catch three minute investigation act disgust come realize wp system complete utter embarrasing joke gabe agreement wont disclose detail protect plan begin work turn like rabid dog thank disagree edit watch inject nonapproved thethe change pink floyd article cocky test rape pilage another hundred music article thethe nonsense currently mediate dispute guy isnt interest further wp want name light wpownership guess ip do time go back account edit much fun bite bitch hasta luego joe'"
            ]
          },
          "execution_count": 35,
          "metadata": {},
          "output_type": "execute_result"
        }
      ],
      "source": [
        "import string\n",
        "\n",
        "def remove_special_chars(text):\n",
        "    re1 = re.compile(r'  +')\n",
        "    x1 = text.lower().replace('#39;', \"'\").replace('amp;', '&').replace('#146;', \"'\").replace(\n",
        "        'nbsp;', ' ').replace('#36;', '$').replace('\\\\n', \"\\n\").replace('quot;', \"'\").replace(\n",
        "        '<br />', \"\\n\").replace('\\\\\"', '\"').replace('<unk>', 'u_n').replace(' @.@ ', '.').replace(\n",
        "        ' @-@ ', '-').replace('\\\\', ' \\\\ ')\n",
        "    return re1.sub(' ', html.unescape(x1))\n",
        "\n",
        "\n",
        "\n",
        "def remove_punctuation(text):\n",
        "    \"\"\"Remove punctuation from list of tokenized words\"\"\"\n",
        "    translator = str.maketrans('', '', string.punctuation)\n",
        "    return text.translate(translator)\n",
        "\n",
        "\n",
        "def replace_numbers(text):\n",
        "    \"\"\"Replace all interger occurrences in list of tokenized words with textual representation\"\"\"\n",
        "    return re.sub(r'\\d+', '', text)\n",
        "\n",
        "\n",
        "\n",
        "def remove_stopwords(words, stop_words):\n",
        "    \"\"\"Remove stopwords\"\"\"\n",
        "    return [word for word in words if word not in stop_words]\n",
        "\n",
        "\n",
        "def stem_words(words):\n",
        "    \"\"\"Stem words in text\"\"\"\n",
        "    stemmer = PorterStemmer()\n",
        "    return [stemmer.stem(word) for word in words]\n",
        "\n",
        "def lemmatize_words(words):\n",
        "    \"\"\"Lemmatize words in text\"\"\"\n",
        "\n",
        "    lemmatizer = WordNetLemmatizer()\n",
        "    return [lemmatizer.lemmatize(word) for word in words]\n",
        "\n",
        "def lemmatize_verbs(words):\n",
        "    \"\"\"Lemmatize verbs in text\"\"\"\n",
        "\n",
        "    lemmatizer = WordNetLemmatizer()\n",
        "    return ' '.join([lemmatizer.lemmatize(word, pos='v') for word in words])\n",
        "\n",
        "\n",
        "def clean_text( text):\n",
        "    text = remove_special_chars(text)\n",
        "    text = remove_punctuation(text)\n",
        "    text = text.lower()\n",
        "    text = replace_numbers(text)\n",
        "    words = word_tokenize(text)\n",
        "    words = remove_stopwords(words, stop_words)\n",
        "    #words = stem_words(words)# Either stem ovocar lemmatize\n",
        "    words = lemmatize_words(words)\n",
        "    words = lemmatize_verbs(words)\n",
        "\n",
        "    return ''.join(words)\n",
        "\n",
        "train['Comment'] = train['Comment'].apply(lambda x: clean_text(x))\n",
        "train.sample(1)['Comment'].values[0]\n"
      ]
    },
    {
      "cell_type": "code",
      "execution_count": 36,
      "metadata": {
        "colab": {
          "base_uri": "https://localhost:8080/",
          "height": 53
        },
        "id": "H0IRcywTnXID",
        "outputId": "bee7f391-3b3c-4e26-937f-159d24cf65dc"
      },
      "outputs": [
        {
          "data": {
            "text/plain": [
              "'racist western racist edit adverse reference western government organization action continue document publicly expose racism around net make cautionary example'"
            ]
          },
          "execution_count": 36,
          "metadata": {},
          "output_type": "execute_result"
        }
      ],
      "source": [
        "test['Comment'] = test['Comment'].apply(lambda x: clean_text(x))\n",
        "test.sample(1)[\"Comment\"].values[0]"
      ]
    },
    {
      "cell_type": "markdown",
      "metadata": {
        "id": "bro_1-9r-W0o"
      },
      "source": [
        "# Support Vector Machine"
      ]
    },
    {
      "cell_type": "code",
      "execution_count": 37,
      "metadata": {
        "colab": {
          "base_uri": "https://localhost:8080/"
        },
        "id": "gppgVe0X-dyQ",
        "outputId": "7b30205b-0e27-4630-bd33-c34dd2c0e252"
      },
      "outputs": [
        {
          "data": {
            "text/html": [
              "<style>#sk-container-id-2 {color: black;background-color: white;}#sk-container-id-2 pre{padding: 0;}#sk-container-id-2 div.sk-toggleable {background-color: white;}#sk-container-id-2 label.sk-toggleable__label {cursor: pointer;display: block;width: 100%;margin-bottom: 0;padding: 0.3em;box-sizing: border-box;text-align: center;}#sk-container-id-2 label.sk-toggleable__label-arrow:before {content: \"▸\";float: left;margin-right: 0.25em;color: #696969;}#sk-container-id-2 label.sk-toggleable__label-arrow:hover:before {color: black;}#sk-container-id-2 div.sk-estimator:hover label.sk-toggleable__label-arrow:before {color: black;}#sk-container-id-2 div.sk-toggleable__content {max-height: 0;max-width: 0;overflow: hidden;text-align: left;background-color: #f0f8ff;}#sk-container-id-2 div.sk-toggleable__content pre {margin: 0.2em;color: black;border-radius: 0.25em;background-color: #f0f8ff;}#sk-container-id-2 input.sk-toggleable__control:checked~div.sk-toggleable__content {max-height: 200px;max-width: 100%;overflow: auto;}#sk-container-id-2 input.sk-toggleable__control:checked~label.sk-toggleable__label-arrow:before {content: \"▾\";}#sk-container-id-2 div.sk-estimator input.sk-toggleable__control:checked~label.sk-toggleable__label {background-color: #d4ebff;}#sk-container-id-2 div.sk-label input.sk-toggleable__control:checked~label.sk-toggleable__label {background-color: #d4ebff;}#sk-container-id-2 input.sk-hidden--visually {border: 0;clip: rect(1px 1px 1px 1px);clip: rect(1px, 1px, 1px, 1px);height: 1px;margin: -1px;overflow: hidden;padding: 0;position: absolute;width: 1px;}#sk-container-id-2 div.sk-estimator {font-family: monospace;background-color: #f0f8ff;border: 1px dotted black;border-radius: 0.25em;box-sizing: border-box;margin-bottom: 0.5em;}#sk-container-id-2 div.sk-estimator:hover {background-color: #d4ebff;}#sk-container-id-2 div.sk-parallel-item::after {content: \"\";width: 100%;border-bottom: 1px solid gray;flex-grow: 1;}#sk-container-id-2 div.sk-label:hover label.sk-toggleable__label {background-color: #d4ebff;}#sk-container-id-2 div.sk-serial::before {content: \"\";position: absolute;border-left: 1px solid gray;box-sizing: border-box;top: 0;bottom: 0;left: 50%;z-index: 0;}#sk-container-id-2 div.sk-serial {display: flex;flex-direction: column;align-items: center;background-color: white;padding-right: 0.2em;padding-left: 0.2em;position: relative;}#sk-container-id-2 div.sk-item {position: relative;z-index: 1;}#sk-container-id-2 div.sk-parallel {display: flex;align-items: stretch;justify-content: center;background-color: white;position: relative;}#sk-container-id-2 div.sk-item::before, #sk-container-id-2 div.sk-parallel-item::before {content: \"\";position: absolute;border-left: 1px solid gray;box-sizing: border-box;top: 0;bottom: 0;left: 50%;z-index: -1;}#sk-container-id-2 div.sk-parallel-item {display: flex;flex-direction: column;z-index: 1;position: relative;background-color: white;}#sk-container-id-2 div.sk-parallel-item:first-child::after {align-self: flex-end;width: 50%;}#sk-container-id-2 div.sk-parallel-item:last-child::after {align-self: flex-start;width: 50%;}#sk-container-id-2 div.sk-parallel-item:only-child::after {width: 0;}#sk-container-id-2 div.sk-dashed-wrapped {border: 1px dashed gray;margin: 0 0.4em 0.5em 0.4em;box-sizing: border-box;padding-bottom: 0.4em;background-color: white;}#sk-container-id-2 div.sk-label label {font-family: monospace;font-weight: bold;display: inline-block;line-height: 1.2em;}#sk-container-id-2 div.sk-label-container {text-align: center;}#sk-container-id-2 div.sk-container {/* jupyter's `normalize.less` sets `[hidden] { display: none; }` but bootstrap.min.css set `[hidden] { display: none !important; }` so we also need the `!important` here to be able to override the default hidden behavior on the sphinx rendered scikit-learn.org. See: https://github.com/scikit-learn/scikit-learn/issues/21755 */display: inline-block !important;position: relative;}#sk-container-id-2 div.sk-text-repr-fallback {display: none;}</style><div id=\"sk-container-id-2\" class=\"sk-top-container\"><div class=\"sk-text-repr-fallback\"><pre>Pipeline(steps=[(&#x27;pre_processing&#x27;, TfidfVectorizer(max_features=5000)),\n",
              "                (&#x27;SVM&#x27;, SVC(gamma=&#x27;auto&#x27;, kernel=&#x27;linear&#x27;))])</pre><b>In a Jupyter environment, please rerun this cell to show the HTML representation or trust the notebook. <br />On GitHub, the HTML representation is unable to render, please try loading this page with nbviewer.org.</b></div><div class=\"sk-container\" hidden><div class=\"sk-item sk-dashed-wrapped\"><div class=\"sk-label-container\"><div class=\"sk-label sk-toggleable\"><input class=\"sk-toggleable__control sk-hidden--visually\" id=\"sk-estimator-id-4\" type=\"checkbox\" ><label for=\"sk-estimator-id-4\" class=\"sk-toggleable__label sk-toggleable__label-arrow\">Pipeline</label><div class=\"sk-toggleable__content\"><pre>Pipeline(steps=[(&#x27;pre_processing&#x27;, TfidfVectorizer(max_features=5000)),\n",
              "                (&#x27;SVM&#x27;, SVC(gamma=&#x27;auto&#x27;, kernel=&#x27;linear&#x27;))])</pre></div></div></div><div class=\"sk-serial\"><div class=\"sk-item\"><div class=\"sk-estimator sk-toggleable\"><input class=\"sk-toggleable__control sk-hidden--visually\" id=\"sk-estimator-id-5\" type=\"checkbox\" ><label for=\"sk-estimator-id-5\" class=\"sk-toggleable__label sk-toggleable__label-arrow\">TfidfVectorizer</label><div class=\"sk-toggleable__content\"><pre>TfidfVectorizer(max_features=5000)</pre></div></div></div><div class=\"sk-item\"><div class=\"sk-estimator sk-toggleable\"><input class=\"sk-toggleable__control sk-hidden--visually\" id=\"sk-estimator-id-6\" type=\"checkbox\" ><label for=\"sk-estimator-id-6\" class=\"sk-toggleable__label sk-toggleable__label-arrow\">SVC</label><div class=\"sk-toggleable__content\"><pre>SVC(gamma=&#x27;auto&#x27;, kernel=&#x27;linear&#x27;)</pre></div></div></div></div></div></div></div>"
            ],
            "text/plain": [
              "Pipeline(steps=[('pre_processing', TfidfVectorizer(max_features=5000)),\n",
              "                ('SVM', SVC(gamma='auto', kernel='linear'))])"
            ]
          },
          "execution_count": 37,
          "metadata": {},
          "output_type": "execute_result"
        }
      ],
      "source": [
        "from sklearn.model_selection import train_test_split\n",
        "from sklearn import svm\n",
        "from sklearn.metrics import accuracy_score\n",
        "from sklearn.feature_extraction.text import TfidfVectorizer\n",
        "from sklearn.pipeline import Pipeline\n",
        "\n",
        "\n",
        "X = train[\"Comment\"]\n",
        "y = train['Insult']\n",
        "X_train,X_test,y_train,y_test = train_test_split(X,y,test_size=0.2,random_state=0, stratify=y)\n",
        "\n",
        "# Create a classifier in pipeline\n",
        "insult_classifier = Pipeline(steps=[\n",
        "                               ('pre_processing',TfidfVectorizer(max_features=5000)),\n",
        "                                 ('SVM',svm.SVC(C=1.0, kernel='linear', degree=3, gamma='auto'))\n",
        "                                 ])\n",
        "insult_classifier.fit(X_train, y_train)\n"
      ]
    },
    {
      "cell_type": "code",
      "execution_count": 38,
      "metadata": {
        "colab": {
          "base_uri": "https://localhost:8080/"
        },
        "id": "LUycOT0wNGxL",
        "outputId": "d6e4e62f-c99c-43e3-c9ac-f7b9af3a7c30"
      },
      "outputs": [
        {
          "name": "stdout",
          "output_type": "stream",
          "text": [
            "SVM Accuracy Score -> 89.0262234842158\n"
          ]
        }
      ],
      "source": [
        "predictions_SVM = insult_classifier.predict(X_test)\n",
        "print(f\"SVM Accuracy Score -> {accuracy_score(predictions_SVM, y_test)*100}\")"
      ]
    },
    {
      "cell_type": "code",
      "execution_count": 39,
      "metadata": {
        "colab": {
          "base_uri": "https://localhost:8080/"
        },
        "id": "IlMNFgafajjM",
        "outputId": "4037c10b-9068-4fdd-9e62-f06bdd90b823"
      },
      "outputs": [
        {
          "name": "stdout",
          "output_type": "stream",
          "text": [
            "              precision    recall  f1-score   support\n",
            "\n",
            "         0.0       0.87      0.91      0.89      2929\n",
            "         1.0       0.91      0.87      0.89      3058\n",
            "\n",
            "    accuracy                           0.89      5987\n",
            "   macro avg       0.89      0.89      0.89      5987\n",
            "weighted avg       0.89      0.89      0.89      5987\n",
            "\n"
          ]
        }
      ],
      "source": [
        "from sklearn.metrics import classification_report\n",
        "\n",
        "print(classification_report(y_test,predictions_SVM))"
      ]
    },
    {
      "cell_type": "markdown",
      "metadata": {
        "id": "EdTNRu6O-OYb"
      },
      "source": [
        "# Deep Learning Models"
      ]
    },
    {
      "cell_type": "markdown",
      "metadata": {
        "id": "qtl33z8-nXIG"
      },
      "source": [
        "## BoW "
      ]
    },
    {
      "cell_type": "code",
      "execution_count": 40,
      "metadata": {
        "colab": {
          "base_uri": "https://localhost:8080/"
        },
        "id": "orOqVBv2nXIH",
        "outputId": "c12bcd24-70e4-4147-9ac9-4cd5bea63fd1"
      },
      "outputs": [
        {
          "data": {
            "text/plain": [
              "59080"
            ]
          },
          "execution_count": 40,
          "metadata": {},
          "output_type": "execute_result"
        }
      ],
      "source": [
        "from tensorflow.keras.preprocessing.text import Tokenizer  \n",
        "tok = Tokenizer(num_words=1000, oov_token='UNK')\n",
        "tok.fit_on_texts(train['Comment'] )\n",
        "# Extract binary BoW features\n",
        "x_train = tok.texts_to_sequences(train['Comment'])\n",
        "x_test = tok.texts_to_sequences(test['Comment'])\n",
        "\n",
        "vocab_size = len(tok.word_index) + 1\n",
        "vocab_size\n"
      ]
    },
    {
      "cell_type": "markdown",
      "metadata": {
        "id": "jvcFY8DmnXIJ"
      },
      "source": [
        "## LSTM"
      ]
    },
    {
      "cell_type": "code",
      "execution_count": 41,
      "metadata": {
        "colab": {
          "base_uri": "https://localhost:8080/",
          "height": 217
        },
        "id": "IA35va5ZnXIK",
        "outputId": "0610151d-82c0-485d-cb3c-93a6ebad9ec9"
      },
      "outputs": [
        {
          "data": {
            "text/plain": [
              "1250"
            ]
          },
          "execution_count": 41,
          "metadata": {},
          "output_type": "execute_result"
        }
      ],
      "source": [
        "from tensorflow.keras.preprocessing.text import text_to_word_sequence\n",
        "from tensorflow.keras.preprocessing.text import Tokenizer  \n",
        "from tensorflow.keras.preprocessing.sequence import pad_sequences\n",
        "from tensorflow.keras import models\n",
        "from tensorflow.keras import layers\n",
        "from tensorflow.keras import losses\n",
        "from tensorflow.keras import metrics\n",
        "from tensorflow.keras import optimizers\n",
        "from tensorflow.keras.utils import plot_model\n",
        "\n",
        "maxlen = max([len(t) for t in x_train])\n",
        "maxlen\n"
      ]
    },
    {
      "cell_type": "code",
      "execution_count": 42,
      "metadata": {
        "id": "V3nqIm0snXIN"
      },
      "outputs": [],
      "source": [
        "training_padded = pad_sequences(x_train,\n",
        "                                maxlen=50, \n",
        "                                truncating='post', \n",
        "                                padding='post'\n",
        "                               )\n",
        "test_padded = pad_sequences(x_test,\n",
        "                            maxlen=50, \n",
        "                            truncating='post', \n",
        "                            padding='post'\n",
        "                               )\n",
        "\n"
      ]
    },
    {
      "cell_type": "code",
      "execution_count": 43,
      "metadata": {
        "id": "nnnwxuCknXIO"
      },
      "outputs": [
        {
          "name": "stdout",
          "output_type": "stream",
          "text": [
            "Model: \"sequential_1\"\n",
            "_________________________________________________________________\n",
            " Layer (type)                Output Shape              Param #   \n",
            "=================================================================\n",
            " embedding_1 (Embedding)     (None, 50, 128)           7562240   \n",
            "                                                                 \n",
            " lstm_1 (LSTM)               (None, 50, 512)           1312768   \n",
            "                                                                 \n",
            " dense_1 (Dense)             (None, 50, 1)             513       \n",
            "                                                                 \n",
            "=================================================================\n",
            "Total params: 8,875,521\n",
            "Trainable params: 8,875,521\n",
            "Non-trainable params: 0\n",
            "_________________________________________________________________\n"
          ]
        }
      ],
      "source": [
        "model = models.Sequential()\n",
        "model.add(layers.Embedding(vocab_size, 128, input_length=50))\n",
        "model.add(layers.LSTM(512, dropout=0.2, recurrent_dropout=0.2, return_sequences=True))\n",
        "model.add(layers.Dense(1, activation='sigmoid'))\n",
        "\n",
        "\n",
        "\n",
        "\n",
        "model.compile(\n",
        "    loss='binary_crossentropy',\n",
        "    optimizer='Adamax',\n",
        "    metrics=['accuracy'])\n",
        "\n",
        "model.summary()"
      ]
    },
    {
      "cell_type": "code",
      "execution_count": 44,
      "metadata": {
        "id": "u2ZeMEh4nXIP"
      },
      "outputs": [
        {
          "name": "stdout",
          "output_type": "stream",
          "text": [
            "47/47 [==============================] - 135s 3s/step - loss: 0.6389 - accuracy: 0.6531 - val_loss: 0.8202 - val_accuracy: 0.4997\n"
          ]
        }
      ],
      "source": [
        "history = model.fit(training_padded,\n",
        "                     train[['Insult']],\n",
        "                    epochs=1,\n",
        "                    batch_size=512,\n",
        "                   validation_split=0.2)\n"
      ]
    },
    {
      "cell_type": "markdown",
      "metadata": {
        "id": "ZIMdu0JMnXIX"
      },
      "source": [
        "## Bidirectional"
      ]
    },
    {
      "cell_type": "code",
      "execution_count": 45,
      "metadata": {
        "id": "IbQRbFUoH988"
      },
      "outputs": [
        {
          "name": "stdout",
          "output_type": "stream",
          "text": [
            "30/30 [==============================] - 31s 1s/step\n"
          ]
        },
        {
          "data": {
            "text/plain": [
              "array([[[0.51337683],\n",
              "        [0.5419569 ],\n",
              "        [0.56891716],\n",
              "        ...,\n",
              "        [0.9276381 ],\n",
              "        [0.92920184],\n",
              "        [0.93064517]],\n",
              "\n",
              "       [[0.51337683],\n",
              "        [0.5419569 ],\n",
              "        [0.56891716],\n",
              "        ...,\n",
              "        [0.9276381 ],\n",
              "        [0.92920184],\n",
              "        [0.93064517]],\n",
              "\n",
              "       [[0.51337683],\n",
              "        [0.5419569 ],\n",
              "        [0.56891716],\n",
              "        ...,\n",
              "        [0.9276381 ],\n",
              "        [0.92920184],\n",
              "        [0.93064517]],\n",
              "\n",
              "       ...,\n",
              "\n",
              "       [[0.50245655],\n",
              "        [0.500952  ],\n",
              "        [0.49877712],\n",
              "        ...,\n",
              "        [0.8647434 ],\n",
              "        [0.8706331 ],\n",
              "        [0.8761745 ]],\n",
              "\n",
              "       [[0.5237491 ],\n",
              "        [0.5023137 ],\n",
              "        [0.4864131 ],\n",
              "        ...,\n",
              "        [0.67394453],\n",
              "        [0.68356586],\n",
              "        [0.6933286 ]],\n",
              "\n",
              "       [[0.5046361 ],\n",
              "        [0.49866903],\n",
              "        [0.5178848 ],\n",
              "        ...,\n",
              "        [0.8138269 ],\n",
              "        [0.8221428 ],\n",
              "        [0.83013546]]], dtype=float32)"
            ]
          },
          "execution_count": 45,
          "metadata": {},
          "output_type": "execute_result"
        }
      ],
      "source": [
        "history.model.predict([test_padded],batch_size=1024, verbose=1)"
      ]
    },
    {
      "cell_type": "code",
      "execution_count": 46,
      "metadata": {
        "id": "Pg3dH8xNnXIY"
      },
      "outputs": [],
      "source": [
        "\n",
        "# lstm_dim = 32\n",
        "# model_bilstm = models.Sequential()\n",
        "# model_bilstm.add(layers.Embedding(vocab_size, 512, input_length=50))\n",
        "# model_bilstm.add(layers.Bidirectional(layers.LSTM(128, dropout=0.2, recurrent_dropout=0.2, return_sequences=True)))\n",
        "# model_bilstm.add(layers.Flatten())\n",
        "# model_bilstm.add(layers.Dense(16, activation='relu'))\n",
        "# model_bilstm.add(layers.Dense(1, activation='sigmoid'))\n",
        "\n",
        "\n",
        "# model_bilstm.compile(loss='binary_crossentropy',optimizer='adam',metrics=['accuracy'])\n",
        "\n",
        "# # Print the model summary\n",
        "# model_bilstm.summary()\n",
        "\n",
        "# history = model_bilstm.fit(training_padded,\n",
        "#                      train[[ 'Insult']],\n",
        "#                     epochs=2,\n",
        "#                     batch_size=512,\n",
        "#                    validation_split=0.2)"
      ]
    },
    {
      "cell_type": "markdown",
      "metadata": {
        "id": "zcvQe6A2Gaov"
      },
      "source": [
        "#Saving the Model"
      ]
    },
    {
      "cell_type": "code",
      "execution_count": 47,
      "metadata": {
        "id": "KZcpUpQKGeYJ"
      },
      "outputs": [],
      "source": [
        "pickle.dump(insult_classifier, open(\"saved_model.pkl\", \"wb\"))"
      ]
    },
    {
      "cell_type": "code",
      "execution_count": 48,
      "metadata": {
        "colab": {
          "base_uri": "https://localhost:8080/"
        },
        "id": "4-6LA54lbY65",
        "outputId": "a7f3ab47-59ac-4622-9aef-45f849c95973"
      },
      "outputs": [
        {
          "data": {
            "text/plain": [
              "array([0.])"
            ]
          },
          "execution_count": 48,
          "metadata": {},
          "output_type": "execute_result"
        }
      ],
      "source": [
        "#tweet_vectorized = tfidf_vectorizer.transform([\"Hey my name is Christian. He said you are my bestie friend. Shall we\"])\n",
        "# Call the predict method on your vectorized tweets\n",
        "tweet_pred = insult_classifier.predict([\"Ama is telling the truth, gbemi\"])\n",
        "tweet_pred\n"
      ]
    },
    {
      "cell_type": "code",
      "execution_count": null,
      "metadata": {
        "id": "hrpCx8Fkda-0"
      },
      "outputs": [],
      "source": []
    }
  ],
  "metadata": {
    "colab": {
      "collapsed_sections": [
        "EdTNRu6O-OYb"
      ],
      "name": "toxic_word_identifier.ipynb",
      "provenance": []
    },
    "kernelspec": {
      "display_name": "Python 3.10.5 64-bit",
      "language": "python",
      "name": "python3"
    },
    "language_info": {
      "codemirror_mode": {
        "name": "ipython",
        "version": 3
      },
      "file_extension": ".py",
      "mimetype": "text/x-python",
      "name": "python",
      "nbconvert_exporter": "python",
      "pygments_lexer": "ipython3",
      "version": "3.10.5"
    },
    "vscode": {
      "interpreter": {
        "hash": "a9cff5a362bc38ef45d817ae74b1af54d6a076e3d773891282bce078b815ba34"
      }
    }
  },
  "nbformat": 4,
  "nbformat_minor": 0
}
